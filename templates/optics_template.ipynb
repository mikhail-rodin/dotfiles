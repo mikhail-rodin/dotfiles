{
 "cells": [
  {
   "cell_type": "code",
   "execution_count": 82,
   "metadata": {},
   "outputs": [
    {
     "output_type": "stream",
     "name": "stdout",
     "text": "Could not initiate instance.\nERROR: Unable to establish a conversation with server (err=0x400a).\nZEMAX may not be running!\n"
    },
    {
     "output_type": "error",
     "ename": "AttributeError",
     "evalue": "'NoneType' object has no attribute 'zGetVersion'",
     "traceback": [
      "\u001b[1;31m---------------------------------------------------------------------------\u001b[0m",
      "\u001b[1;31mAttributeError\u001b[0m                            Traceback (most recent call last)",
      "\u001b[1;32m<ipython-input-82-91aaf5eb4cfc>\u001b[0m in \u001b[0;36m<module>\u001b[1;34m\u001b[0m\n\u001b[0;32m      7\u001b[0m \u001b[0mpyz\u001b[0m\u001b[1;33m.\u001b[0m\u001b[0mcloseLink\u001b[0m\u001b[1;33m(\u001b[0m\u001b[1;33m)\u001b[0m\u001b[1;33m\u001b[0m\u001b[1;33m\u001b[0m\u001b[0m\n\u001b[0;32m      8\u001b[0m \u001b[0mzmx\u001b[0m \u001b[1;33m=\u001b[0m \u001b[0mpyz\u001b[0m\u001b[1;33m.\u001b[0m\u001b[0mcreateLink\u001b[0m\u001b[1;33m(\u001b[0m\u001b[1;33m)\u001b[0m\u001b[1;33m\u001b[0m\u001b[1;33m\u001b[0m\u001b[0m\n\u001b[1;32m----> 9\u001b[1;33m \u001b[0mprint\u001b[0m\u001b[1;33m(\u001b[0m\u001b[1;34m'Zemax build'\u001b[0m\u001b[1;33m,\u001b[0m \u001b[0mzmx\u001b[0m\u001b[1;33m.\u001b[0m\u001b[0mzGetVersion\u001b[0m\u001b[1;33m(\u001b[0m\u001b[1;33m)\u001b[0m\u001b[1;33m)\u001b[0m\u001b[1;33m\u001b[0m\u001b[1;33m\u001b[0m\u001b[0m\n\u001b[0m",
      "\u001b[1;31mAttributeError\u001b[0m: 'NoneType' object has no attribute 'zGetVersion'"
     ]
    }
   ],
   "source": [
    "import os\n",
    "import matplotlib.pyplot as plt\n",
    "import pyzdde.zdde as pyz\n",
    "%matplotlib inline\n",
    "\n",
    "pyz.closeLink()\n",
    "zmx = pyz.createLink()\n",
    "print('Zemax build', zmx.zGetVersion())"
   ]
  },
  {
   "cell_type": "code",
   "execution_count": 46,
   "metadata": {},
   "outputs": [
    {
     "output_type": "execute_result",
     "data": {
      "text/plain": "0"
     },
     "metadata": {},
     "execution_count": 46
    }
   ],
   "source": [
    "zfile = 'C:/Users/Rodin/Documents/optics/IR_keppler2x25deg/IR_keppler2x25deg.zmx'\n",
    "zmx.zLoadFile(zfile)"
   ]
  },
  {
   "cell_type": "code",
   "execution_count": 81,
   "metadata": {},
   "outputs": [
    {
     "output_type": "display_data",
     "data": {
      "text/plain": "[DXDX] Derivative of transverse x-aberration with respect to x-pupil coordinate.",
      "text/html": "<font color='blue'>[</font><b><font color='magenta'>DXDX</font></b><font color='blue'>]</font> Derivative of transverse x-aberration with respect to x-pupil coordinate."
     },
     "metadata": {}
    },
    {
     "output_type": "display_data",
     "data": {
      "text/plain": "[DXDY] Derivative of transverse x-aberration with respect to y-pupil coordinate.",
      "text/html": "<font color='blue'>[</font><b><font color='magenta'>DXDY</font></b><font color='blue'>]</font> Derivative of transverse x-aberration with respect to y-pupil coordinate."
     },
     "metadata": {}
    },
    {
     "output_type": "display_data",
     "data": {
      "text/plain": "[DYDX] Derivative of transverse y-aberration with respect to x-pupil coordinate.",
      "text/html": "<font color='blue'>[</font><b><font color='magenta'>DYDX</font></b><font color='blue'>]</font> Derivative of transverse y-aberration with respect to x-pupil coordinate."
     },
     "metadata": {}
    },
    {
     "output_type": "display_data",
     "data": {
      "text/plain": "[DYDY] Derivative of transverse y-aberration with respect to y-pupil coordinate.",
      "text/html": "<font color='blue'>[</font><b><font color='magenta'>DYDY</font></b><font color='blue'>]</font> Derivative of transverse y-aberration with respect to y-pupil coordinate."
     },
     "metadata": {}
    },
    {
     "output_type": "display_data",
     "data": {
      "text/plain": "[ENPP] Entrance pupil position in lens units, with respect to the first surface.",
      "text/html": "<font color='blue'>[</font><b><font color='magenta'>ENPP</font></b><font color='blue'>]</font> Entrance pupil position in lens units, with respect to the first surface."
     },
     "metadata": {}
    },
    {
     "output_type": "display_data",
     "data": {
      "text/plain": "[EPDI] Entrance pupil diameter in lens units.",
      "text/html": "<font color='blue'>[</font><b><font color='magenta'>EPDI</font></b><font color='blue'>]</font> Entrance pupil diameter in lens units."
     },
     "metadata": {}
    },
    {
     "output_type": "display_data",
     "data": {
      "text/plain": "[EXPD] Exit pupil diameter in lens units.",
      "text/html": "<font color='blue'>[</font><b><font color='magenta'>EXPD</font></b><font color='blue'>]</font> Exit pupil diameter in lens units."
     },
     "metadata": {}
    },
    {
     "output_type": "display_data",
     "data": {
      "text/plain": "[EXPP] Exit pupil position in lens units, with respect to the image surface.",
      "text/html": "<font color='blue'>[</font><b><font color='magenta'>EXPP</font></b><font color='blue'>]</font> Exit pupil position in lens units, with respect to the image surface."
     },
     "metadata": {}
    },
    {
     "output_type": "display_data",
     "data": {
      "text/plain": "[GPIM] Ghost pupil image. See also GPRT, GPRX, GPRY, GPSX, and GPSY.",
      "text/html": "<font color='blue'>[</font><b><font color='magenta'>GPIM</font></b><font color='blue'>]</font> Ghost pupil image. See also GPRT, GPRX, GPRY, GPSX, and GPSY."
     },
     "metadata": {}
    },
    {
     "output_type": "display_data",
     "data": {
      "text/plain": "[OPDM] Optical path difference with respect to the mean OPD over the pupil at the wavelength defined by Wave.",
      "text/html": "<font color='blue'>[</font><b><font color='magenta'>OPDM</font></b><font color='blue'>]</font> Optical path difference with respect to the mean OPD over the pupil at the wavelength defined by Wave."
     },
     "metadata": {}
    },
    {
     "output_type": "display_data",
     "data": {
      "text/plain": "[OPDX] Optical path difference with respect to the mean OPD over the pupil with tilt removed at the wavelength defined by Wave.",
      "text/html": "<font color='blue'>[</font><b><font color='magenta'>OPDX</font></b><font color='blue'>]</font> Optical path difference with respect to the mean OPD over the pupil with tilt removed at the wavelength defined by Wave."
     },
     "metadata": {}
    },
    {
     "output_type": "display_data",
     "data": {
      "text/plain": "[POWP] Power at a point in the pupil.",
      "text/html": "<font color='blue'>[</font><b><font color='magenta'>POWP</font></b><font color='blue'>]</font> Power at a point in the pupil."
     },
     "metadata": {}
    },
    {
     "output_type": "display_data",
     "data": {
      "text/plain": "[RSCE] RMS spot radius with respect to the centroid in lens units; using Guassian quadrature method that is accurate for systems with unvignetted circular pupils.",
      "text/html": "<font color='blue'>[</font><b><font color='magenta'>RSCE</font></b><font color='blue'>]</font> RMS spot radius with respect to the centroid in lens units; using Guassian quadrature method that is accurate for systems with unvignetted circular pupils."
     },
     "metadata": {}
    },
    {
     "output_type": "display_data",
     "data": {
      "text/plain": "[RSCH] RMS spot radius with respect to the chief ray in lens units; using Guassian quadrature method that is accurate for systems with unvignetted circular pupils.",
      "text/html": "<font color='blue'>[</font><b><font color='magenta'>RSCH</font></b><font color='blue'>]</font> RMS spot radius with respect to the chief ray in lens units; using Guassian quadrature method that is accurate for systems with unvignetted circular pupils."
     },
     "metadata": {}
    },
    {
     "output_type": "display_data",
     "data": {
      "text/plain": "[RWCE] RMS wavefront error with respect to the centroid in waves; using Guassian quadrature method that is accurate for systems with unvignetted circular pupils.",
      "text/html": "<font color='blue'>[</font><b><font color='magenta'>RWCE</font></b><font color='blue'>]</font> RMS wavefront error with respect to the centroid in waves; using Guassian quadrature method that is accurate for systems with unvignetted circular pupils."
     },
     "metadata": {}
    },
    {
     "output_type": "display_data",
     "data": {
      "text/plain": "[RWCH] RMS wavefront error with respect to the chief ray in waves; using Guassian quadrature method that is accurate for systems with unvignetted circular pupils.",
      "text/html": "<font color='blue'>[</font><b><font color='magenta'>RWCH</font></b><font color='blue'>]</font> RMS wavefront error with respect to the chief ray in waves; using Guassian quadrature method that is accurate for systems with unvignetted circular pupils."
     },
     "metadata": {}
    },
    {
     "output_type": "display_data",
     "data": {
      "text/plain": "[TRAC] The radial transverse aberration measured in image space for a specified ray (field location, pupil corodinate, and color) with respect to the centroid for the wavelength defined by Wave. It is used by the default merit function to compute how far away from the centroid of a spot a given ray lands. TRAC is used to minimize the RMS spot radius",
      "text/html": "<font color='blue'>[</font><b><font color='magenta'>TRAC</font></b><font color='blue'>]</font> The radial transverse aberration measured in image space for a specified ray (field location, pupil corodinate, and color) with respect to the centroid for the wavelength defined by Wave. It is used by the default merit function to compute how far away from the centroid of a spot a given ray lands. TRAC is used to minimize the RMS spot radius"
     },
     "metadata": {}
    },
    {
     "output_type": "display_data",
     "data": {
      "text/plain": "Found 17 Optimization operands",
      "text/html": "<font color='blue'><b>Found </font></b><font color='red'><b>17</font></b><font color='blue'><b> Optimization operands</font></b>"
     },
     "metadata": {}
    },
    {
     "output_type": "display_data",
     "data": {
      "text/plain": "[GQPO] Obscuration value used for Gaussian Quadrature pupil sampling in the default merit function.",
      "text/html": "<font color='blue'>[</font><b><font color='magenta'>GQPO</font></b><font color='blue'>]</font> Obscuration value used for Gaussian Quadrature pupil sampling in the default merit function."
     },
     "metadata": {}
    },
    {
     "output_type": "display_data",
     "data": {
      "text/plain": "[PSCX] X Pupil Compress.",
      "text/html": "<font color='blue'>[</font><b><font color='magenta'>PSCX</font></b><font color='blue'>]</font> X Pupil Compress."
     },
     "metadata": {}
    },
    {
     "output_type": "display_data",
     "data": {
      "text/plain": "[PSCY] Y Pupil Compress.",
      "text/html": "<font color='blue'>[</font><b><font color='magenta'>PSCY</font></b><font color='blue'>]</font> Y Pupil Compress."
     },
     "metadata": {}
    },
    {
     "output_type": "display_data",
     "data": {
      "text/plain": "[PSHX] X Pupil Shift.",
      "text/html": "<font color='blue'>[</font><b><font color='magenta'>PSHX</font></b><font color='blue'>]</font> X Pupil Shift."
     },
     "metadata": {}
    },
    {
     "output_type": "display_data",
     "data": {
      "text/plain": "[PSHY] Y Pupil Shift.",
      "text/html": "<font color='blue'>[</font><b><font color='magenta'>PSHY</font></b><font color='blue'>]</font> Y Pupil Shift."
     },
     "metadata": {}
    },
    {
     "output_type": "display_data",
     "data": {
      "text/plain": "[PSHZ] Z Pupil Shift.",
      "text/html": "<font color='blue'>[</font><b><font color='magenta'>PSHZ</font></b><font color='blue'>]</font> Z Pupil Shift."
     },
     "metadata": {}
    },
    {
     "output_type": "display_data",
     "data": {
      "text/plain": "Found 6 Multi-configuration operands",
      "text/html": "<font color='blue'><b>Found </font></b><font color='red'><b>6</font></b><font color='blue'><b> Multi-configuration operands</font></b>"
     },
     "metadata": {}
    }
   ],
   "source": [
    "pyz.findZOperand('pupil')"
   ]
  },
  {
   "cell_type": "code",
   "execution_count": 83,
   "metadata": {},
   "outputs": [
    {
     "output_type": "error",
     "ename": "SyntaxError",
     "evalue": "invalid syntax (<ipython-input-83-bd79d3c7f83a>, line 1)",
     "traceback": [
      "\u001b[1;36m  File \u001b[1;32m\"<ipython-input-83-bd79d3c7f83a>\"\u001b[1;36m, line \u001b[1;32m1\u001b[0m\n\u001b[1;33m    howdoi format date bash\u001b[0m\n\u001b[1;37m                ^\u001b[0m\n\u001b[1;31mSyntaxError\u001b[0m\u001b[1;31m:\u001b[0m invalid syntax\n"
     ]
    }
   ],
   "source": []
  }
 ],
 "metadata": {
  "language_info": {
   "codemirror_mode": {
    "name": "ipython",
    "version": 3
   },
   "file_extension": ".py",
   "mimetype": "text/x-python",
   "name": "python",
   "nbconvert_exporter": "python",
   "pygments_lexer": "ipython3",
   "version": "3.7.5-final"
  },
  "orig_nbformat": 2,
  "kernelspec": {
   "name": "python37564bit546f8ae6f40e4399906b0169e0fef6e4",
   "display_name": "Python 3.7.5 64-bit"
  }
 },
 "nbformat": 4,
 "nbformat_minor": 2
}